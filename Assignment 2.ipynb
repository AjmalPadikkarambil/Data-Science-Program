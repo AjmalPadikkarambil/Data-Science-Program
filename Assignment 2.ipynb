{
 "cells": [
  {
   "cell_type": "markdown",
   "metadata": {},
   "source": [
    "# Assignment 2\n",
    "\n"
   ]
  },
  {
   "cell_type": "markdown",
   "metadata": {},
   "source": [
    "# Q1)."
   ]
  },
  {
   "cell_type": "code",
   "execution_count": 4,
   "metadata": {},
   "outputs": [
    {
     "name": "stdout",
     "output_type": "stream",
     "text": [
      "Enter Numbers :22\n",
      "Enter Numbers :1\n",
      "Enter Numbers :5\n",
      "Enter Numbers :9\n",
      "Enter Numbers :6\n",
      "Enter Numbers :44\n",
      "Enter Numbers :77\n",
      "Enter Numbers :33\n",
      "Enter Numbers :12\n",
      "Enter Numbers :14\n",
      "The Even Numbers are : [22, 6, 44, 12, 14]\n"
     ]
    }
   ],
   "source": [
    "a = []\n",
    "for i in range(10):\n",
    "    z = int(input(\"Enter Numbers :\"))\n",
    "    a.append(z)\n",
    "even = []\n",
    "odd = []\n",
    "for j in a:\n",
    "    if(j%2==0):\n",
    "        even.append(j)\n",
    "    else:\n",
    "        odd.append(j)\n",
    "print(\"The Even Numbers are :\",even)"
   ]
  },
  {
   "cell_type": "markdown",
   "metadata": {},
   "source": [
    "# Q2).\n"
   ]
  },
  {
   "cell_type": "markdown",
   "metadata": {},
   "source": [
    "# LIST COMPREHENSION"
   ]
  },
  {
   "cell_type": "raw",
   "metadata": {},
   "source": [
    " > List comprehension is an elegant way to define and create lists based on existing lists.\n",
    " > We will understand list comprehension with the help of For loop.\n",
    " > We will see the difference between for loop and list comprehension by the example-iterating through a string using for loop "
   ]
  },
  {
   "cell_type": "code",
   "execution_count": 7,
   "metadata": {},
   "outputs": [
    {
     "name": "stdout",
     "output_type": "stream",
     "text": [
      "['h', 'u', 'm', 'a', 'n']\n"
     ]
    }
   ],
   "source": [
    "# For loop program \n",
    "\n",
    "l_letters = []\n",
    "for letter in \"human\":\n",
    "    l_letters.append(letter)\n",
    "print(l_letters)"
   ]
  },
  {
   "cell_type": "code",
   "execution_count": 6,
   "metadata": {},
   "outputs": [
    {
     "name": "stdout",
     "output_type": "stream",
     "text": [
      "['h', 'u', 'm', 'a', 'n']\n"
     ]
    }
   ],
   "source": [
    "# Let's see how the program can be written using List comprehension\n",
    "\n",
    "l_letters = [ letter for letter in \"human\" ]\n",
    "print(l_letters)\n"
   ]
  },
  {
   "cell_type": "raw",
   "metadata": {},
   "source": [
    "                                CONDITIONALS IN LIST COMPREHENSION\n",
    "  \n",
    "  > List comprehensions can utilize conditional statements to modify existing list or other tuples.\n",
    "  > We will create list that uses mathematical operators, integers and range() \n",
    "\n"
   ]
  },
  {
   "cell_type": "code",
   "execution_count": 9,
   "metadata": {},
   "outputs": [
    {
     "name": "stdout",
     "output_type": "stream",
     "text": [
      "[0, 2, 4, 6, 8, 10, 12, 14, 16, 18]\n"
     ]
    }
   ],
   "source": [
    "# Using if with List comprehension\n",
    "\n",
    "num_list = [a for a in range(20) if a%2==0 ]\n",
    "print(num_list)"
   ]
  },
  {
   "cell_type": "code",
   "execution_count": 10,
   "metadata": {},
   "outputs": [
    {
     "name": "stdout",
     "output_type": "stream",
     "text": [
      "[0, 10, 20, 30, 40, 50, 60, 70, 80, 90]\n"
     ]
    }
   ],
   "source": [
    "# Nested if with List comprehension\n",
    "\n",
    "num_list = [b for b in range(100) if b%2==0 if b%5==0 ]\n",
    "print(num_list)\n"
   ]
  },
  {
   "cell_type": "code",
   "execution_count": 11,
   "metadata": {},
   "outputs": [
    {
     "name": "stdout",
     "output_type": "stream",
     "text": [
      "['Even', 'Odd', 'Even', 'Odd', 'Even', 'Odd', 'Even', 'Odd', 'Even', 'Odd']\n"
     ]
    }
   ],
   "source": [
    "# if else with List comprehension\n",
    "\n",
    "obj = [\"Even\" if e%2==0 else \"Odd\" for e in range(10) ]\n",
    "print(obj)"
   ]
  },
  {
   "cell_type": "raw",
   "metadata": {},
   "source": [
    "> List comprehension is an elegant way to create and define lists based on existing lists.\n",
    "> List comprehension is generally more compact and faster than normal functions and loops for creating list.\n",
    "> However, we should avoid writing very long list comprehension in one line to ensure that code is user friendly.\n",
    "> Remember, every list comprehension can be rewritten in For loop, but every For loop cant't be rewritten in the form of list coprehension."
   ]
  },
  {
   "cell_type": "markdown",
   "metadata": {},
   "source": [
    "# Q3)."
   ]
  },
  {
   "cell_type": "code",
   "execution_count": 14,
   "metadata": {},
   "outputs": [
    {
     "name": "stdout",
     "output_type": "stream",
     "text": [
      " 20\n",
      "{1: 1, 2: 4, 3: 9, 4: 16, 5: 25, 6: 36, 7: 49, 8: 64, 9: 81, 10: 100, 11: 121, 12: 144, 13: 169, 14: 196, 15: 225, 16: 256, 17: 289, 18: 324, 19: 361, 20: 400}\n"
     ]
    }
   ],
   "source": [
    "a = int(input(\" \"))\n",
    "b = {i:i*i for i in range(1,a+1)}\n",
    "print(b)"
   ]
  },
  {
   "cell_type": "markdown",
   "metadata": {},
   "source": [
    "# Q4)."
   ]
  },
  {
   "cell_type": "code",
   "execution_count": 15,
   "metadata": {},
   "outputs": [
    {
     "name": "stdout",
     "output_type": "stream",
     "text": [
      "UP 5\n",
      "DOWN 3\n",
      "LEFT 3\n",
      "RIGHT 2\n",
      "Rounded distance from zero position : 2\n"
     ]
    }
   ],
   "source": [
    "pos = 0\n",
    "moves = {\"UP\":1j,\n",
    "         \"DOWN\":-1j,\n",
    "         \"LEFT\":-1,\n",
    "         \"RIGHT\":1}\n",
    "data = [\"UP 5\",\n",
    "         \"DOWN 3\",\n",
    "         \"LEFT 3\",\n",
    "         \"RIGHT 2\"]\n",
    "for inp in data:\n",
    "    parts=inp.split()\n",
    "    mv=parts[0]\n",
    "    val=parts[1]\n",
    "    print (mv, val)\n",
    "    pos += moves[mv]*int(val)\n",
    "print(\"Rounded distance from zero position :\", round(abs(pos)))"
   ]
  },
  {
   "cell_type": "raw",
   "metadata": {},
   "source": []
  }
 ],
 "metadata": {
  "kernelspec": {
   "display_name": "Python 3",
   "language": "python",
   "name": "python3"
  },
  "language_info": {
   "codemirror_mode": {
    "name": "ipython",
    "version": 3
   },
   "file_extension": ".py",
   "mimetype": "text/x-python",
   "name": "python",
   "nbconvert_exporter": "python",
   "pygments_lexer": "ipython3",
   "version": "3.8.3"
  }
 },
 "nbformat": 4,
 "nbformat_minor": 4
}
